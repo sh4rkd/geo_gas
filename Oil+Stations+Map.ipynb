{
 "cells": [
  {
   "cell_type": "code",
   "execution_count": 1,
   "id": "4e043d42",
   "metadata": {},
   "outputs": [
    {
     "name": "stdout",
     "output_type": "stream",
     "text": [
      "Collecting haversine\n",
      "  Downloading haversine-2.8.0-py2.py3-none-any.whl (7.7 kB)\n",
      "Installing collected packages: haversine\n",
      "Successfully installed haversine-2.8.0\n"
     ]
    },
    {
     "name": "stderr",
     "output_type": "stream",
     "text": [
      "WARNING: You are using pip version 22.0.4; however, version 23.0.1 is available.\n",
      "You should consider upgrading via the 'C:\\Users\\Jiord\\AppData\\Local\\Programs\\Python\\Python310\\python.exe -m pip install --upgrade pip' command.\n"
     ]
    },
    {
     "name": "stdout",
     "output_type": "stream",
     "text": [
      "Collecting shapely\n",
      "  Downloading shapely-2.0.1-cp310-cp310-win_amd64.whl (1.4 MB)\n",
      "     ---------------------------------------- 1.4/1.4 MB 6.2 MB/s eta 0:00:00\n",
      "Requirement already satisfied: numpy>=1.14 in c:\\users\\jiord\\appdata\\local\\programs\\python\\python310\\lib\\site-packages (from shapely) (1.23.1)\n",
      "Installing collected packages: shapely\n",
      "Successfully installed shapely-2.0.1\n"
     ]
    },
    {
     "name": "stderr",
     "output_type": "stream",
     "text": [
      "WARNING: You are using pip version 22.0.4; however, version 23.0.1 is available.\n",
      "You should consider upgrading via the 'C:\\Users\\Jiord\\AppData\\Local\\Programs\\Python\\Python310\\python.exe -m pip install --upgrade pip' command.\n"
     ]
    },
    {
     "name": "stdout",
     "output_type": "stream",
     "text": [
      "Collecting geopandas\n",
      "  Downloading geopandas-0.12.2-py3-none-any.whl (1.1 MB)\n",
      "     ---------------------------------------- 1.1/1.1 MB 6.6 MB/s eta 0:00:00\n",
      "Requirement already satisfied: shapely>=1.7 in c:\\users\\jiord\\appdata\\local\\programs\\python\\python310\\lib\\site-packages (from geopandas) (2.0.1)\n",
      "Collecting pyproj>=2.6.1.post1\n",
      "  Downloading pyproj-3.4.1-cp310-cp310-win_amd64.whl (4.8 MB)\n",
      "     ---------------------------------------- 4.8/4.8 MB 12.4 MB/s eta 0:00:00\n",
      "Requirement already satisfied: packaging in c:\\users\\jiord\\appdata\\roaming\\python\\python310\\site-packages (from geopandas) (23.0)\n",
      "Collecting fiona>=1.8\n",
      "  Downloading Fiona-1.9.2-cp310-cp310-win_amd64.whl (21.9 MB)\n",
      "     ---------------------------------------- 21.9/21.9 MB 5.9 MB/s eta 0:00:00\n",
      "Requirement already satisfied: pandas>=1.0.0 in c:\\users\\jiord\\appdata\\local\\programs\\python\\python310\\lib\\site-packages (from geopandas) (1.4.3)\n",
      "Requirement already satisfied: certifi in c:\\users\\jiord\\appdata\\local\\programs\\python\\python310\\lib\\site-packages (from fiona>=1.8->geopandas) (2022.12.7)\n",
      "Collecting munch>=2.3.2\n",
      "  Downloading munch-2.5.0-py2.py3-none-any.whl (10 kB)\n",
      "Collecting click-plugins>=1.0\n",
      "  Downloading click_plugins-1.1.1-py2.py3-none-any.whl (7.5 kB)\n",
      "Collecting attrs>=19.2.0\n",
      "  Downloading attrs-22.2.0-py3-none-any.whl (60 kB)\n",
      "     ---------------------------------------- 60.0/60.0 KB ? eta 0:00:00\n",
      "Collecting click~=8.0\n",
      "  Using cached click-8.1.3-py3-none-any.whl (96 kB)\n",
      "Collecting cligj>=0.5\n",
      "  Downloading cligj-0.7.2-py3-none-any.whl (7.1 kB)\n",
      "Requirement already satisfied: pytz>=2020.1 in c:\\users\\jiord\\appdata\\local\\programs\\python\\python310\\lib\\site-packages (from pandas>=1.0.0->geopandas) (2022.1)\n",
      "Requirement already satisfied: numpy>=1.21.0 in c:\\users\\jiord\\appdata\\local\\programs\\python\\python310\\lib\\site-packages (from pandas>=1.0.0->geopandas) (1.23.1)\n",
      "Requirement already satisfied: python-dateutil>=2.8.1 in c:\\users\\jiord\\appdata\\local\\programs\\python\\python310\\lib\\site-packages (from pandas>=1.0.0->geopandas) (2.8.2)\n",
      "Requirement already satisfied: colorama in c:\\users\\jiord\\appdata\\roaming\\python\\python310\\site-packages (from click~=8.0->fiona>=1.8->geopandas) (0.4.6)\n",
      "Requirement already satisfied: six in c:\\users\\jiord\\appdata\\local\\programs\\python\\python310\\lib\\site-packages (from munch>=2.3.2->fiona>=1.8->geopandas) (1.16.0)\n",
      "Installing collected packages: pyproj, munch, click, attrs, cligj, click-plugins, fiona, geopandas\n",
      "Successfully installed attrs-22.2.0 click-8.1.3 click-plugins-1.1.1 cligj-0.7.2 fiona-1.9.2 geopandas-0.12.2 munch-2.5.0 pyproj-3.4.1\n"
     ]
    },
    {
     "name": "stderr",
     "output_type": "stream",
     "text": [
      "WARNING: You are using pip version 22.0.4; however, version 23.0.1 is available.\n",
      "You should consider upgrading via the 'C:\\Users\\Jiord\\AppData\\Local\\Programs\\Python\\Python310\\python.exe -m pip install --upgrade pip' command.\n"
     ]
    },
    {
     "name": "stdout",
     "output_type": "stream",
     "text": [
      "Collecting geojson\n",
      "  Downloading geojson-3.0.1-py3-none-any.whl (15 kB)\n",
      "Installing collected packages: geojson\n",
      "Successfully installed geojson-3.0.1\n"
     ]
    },
    {
     "name": "stderr",
     "output_type": "stream",
     "text": [
      "WARNING: You are using pip version 22.0.4; however, version 23.0.1 is available.\n",
      "You should consider upgrading via the 'C:\\Users\\Jiord\\AppData\\Local\\Programs\\Python\\Python310\\python.exe -m pip install --upgrade pip' command.\n"
     ]
    },
    {
     "name": "stdout",
     "output_type": "stream",
     "text": [
      "Collecting folium"
     ]
    },
    {
     "name": "stderr",
     "output_type": "stream",
     "text": [
      "WARNING: You are using pip version 22.0.4; however, version 23.0.1 is available.\n",
      "You should consider upgrading via the 'C:\\Users\\Jiord\\AppData\\Local\\Programs\\Python\\Python310\\python.exe -m pip install --upgrade pip' command.\n"
     ]
    },
    {
     "name": "stdout",
     "output_type": "stream",
     "text": [
      "\n",
      "  Downloading folium-0.14.0-py2.py3-none-any.whl (102 kB)\n",
      "     -------------------------------------- 102.3/102.3 KB 2.0 MB/s eta 0:00:00\n",
      "Collecting jinja2>=2.9\n",
      "  Using cached Jinja2-3.1.2-py3-none-any.whl (133 kB)\n",
      "Collecting branca>=0.6.0\n",
      "  Downloading branca-0.6.0-py3-none-any.whl (24 kB)\n",
      "Requirement already satisfied: numpy in c:\\users\\jiord\\appdata\\local\\programs\\python\\python310\\lib\\site-packages (from folium) (1.23.1)\n",
      "Requirement already satisfied: requests in c:\\users\\jiord\\appdata\\local\\programs\\python\\python310\\lib\\site-packages (from folium) (2.28.2)\n",
      "Collecting MarkupSafe>=2.0\n",
      "  Downloading MarkupSafe-2.1.2-cp310-cp310-win_amd64.whl (16 kB)\n",
      "Requirement already satisfied: charset-normalizer<4,>=2 in c:\\users\\jiord\\appdata\\local\\programs\\python\\python310\\lib\\site-packages (from requests->folium) (3.1.0)\n",
      "Requirement already satisfied: idna<4,>=2.5 in c:\\users\\jiord\\appdata\\local\\programs\\python\\python310\\lib\\site-packages (from requests->folium) (3.4)\n",
      "Requirement already satisfied: certifi>=2017.4.17 in c:\\users\\jiord\\appdata\\local\\programs\\python\\python310\\lib\\site-packages (from requests->folium) (2022.12.7)\n",
      "Requirement already satisfied: urllib3<1.27,>=1.21.1 in c:\\users\\jiord\\appdata\\local\\programs\\python\\python310\\lib\\site-packages (from requests->folium) (1.26.15)\n",
      "Installing collected packages: MarkupSafe, jinja2, branca, folium\n",
      "Successfully installed MarkupSafe-2.1.2 branca-0.6.0 folium-0.14.0 jinja2-3.1.2\n",
      "Requirement already satisfied: tqdm in c:\\users\\jiord\\appdata\\local\\programs\\python\\python310\\lib\\site-packages (4.65.0)\n",
      "Requirement already satisfied: colorama in c:\\users\\jiord\\appdata\\roaming\\python\\python310\\site-packages (from tqdm) (0.4.6)\n"
     ]
    },
    {
     "name": "stderr",
     "output_type": "stream",
     "text": [
      "WARNING: You are using pip version 22.0.4; however, version 23.0.1 is available.\n",
      "You should consider upgrading via the 'C:\\Users\\Jiord\\AppData\\Local\\Programs\\Python\\Python310\\python.exe -m pip install --upgrade pip' command.\n"
     ]
    }
   ],
   "source": [
    "!pip install haversine\n",
    "!pip install shapely\n",
    "!pip install geopandas\n",
    "!pip install geojson\n",
    "!pip install folium\n",
    "!pip install tqdm"
   ]
  },
  {
   "cell_type": "code",
   "execution_count": 3,
   "id": "e30b64af",
   "metadata": {},
   "outputs": [],
   "source": [
    "import requests\n",
    "import random\n",
    "import pandas as pd \n",
    "from tqdm import tqdm\n",
    "from cred_her import YOUR_API_KEY\n",
    "import json \n",
    "\n",
    "import ast\n",
    "\n",
    "# Tools\n",
    "\n",
    "import folium\n",
    "from shapely.geometry import Polygon\n",
    "import numpy as np\n",
    "import geojson\n",
    "import folium\n",
    "import matplotlib.pyplot as plt\n",
    "import geopandas as gpd\n",
    "from tqdm import tqdm\n",
    "from shapely.geometry import Polygon\n",
    "import matplotlib.pyplot as plt\n",
    "import shapely.wkt\n",
    "from haversine import haversine, Unit\n",
    "import random\n",
    "import time\n",
    "from pyproj import Geod\n",
    "\n",
    "from shapely import wkt\n",
    "from geopandas import datasets, GeoDataFrame, read_file, points_from_xy\n",
    "from geopandas.tools import overlay\n",
    "from geopandas.tools import sjoin\n",
    "\n",
    "from folium.plugins import MeasureControl\n",
    "from folium.plugins import MarkerCluster\n",
    "\n",
    "from tqdm import tqdm\n",
    "import json\n",
    "\n",
    "import requests\n",
    "import random\n",
    "import time "
   ]
  },
  {
   "cell_type": "code",
   "execution_count": 4,
   "id": "2a501275",
   "metadata": {},
   "outputs": [],
   "source": [
    "df_map = pd.read_csv('DATASET_FINAL.csv')"
   ]
  },
  {
   "cell_type": "code",
   "execution_count": 5,
   "id": "c85adcd0",
   "metadata": {},
   "outputs": [
    {
     "data": {
      "text/html": [
       "<div>\n",
       "<style scoped>\n",
       "    .dataframe tbody tr th:only-of-type {\n",
       "        vertical-align: middle;\n",
       "    }\n",
       "\n",
       "    .dataframe tbody tr th {\n",
       "        vertical-align: top;\n",
       "    }\n",
       "\n",
       "    .dataframe thead th {\n",
       "        text-align: right;\n",
       "    }\n",
       "</style>\n",
       "<table border=\"1\" class=\"dataframe\">\n",
       "  <thead>\n",
       "    <tr style=\"text-align: right;\">\n",
       "      <th></th>\n",
       "      <th>departamentocodigo</th>\n",
       "      <th>Departamento</th>\n",
       "      <th>municipiocodigo</th>\n",
       "      <th>Municipio</th>\n",
       "      <th>Nombre_comercial</th>\n",
       "      <th>bandera</th>\n",
       "      <th>Direccion</th>\n",
       "      <th>producto</th>\n",
       "      <th>precio</th>\n",
       "      <th>estado</th>\n",
       "      <th>fecharegistro</th>\n",
       "      <th>periodo</th>\n",
       "      <th>mes</th>\n",
       "      <th>Dir2</th>\n",
       "      <th>Full_Address</th>\n",
       "      <th>Coords</th>\n",
       "    </tr>\n",
       "  </thead>\n",
       "  <tbody>\n",
       "    <tr>\n",
       "      <th>0</th>\n",
       "      <td>11</td>\n",
       "      <td>BOGOTA D.C.</td>\n",
       "      <td>11001</td>\n",
       "      <td>BOGOTA D.C.</td>\n",
       "      <td>ESTACION DE SERVICIO METROPOLITANA</td>\n",
       "      <td>MOBIL</td>\n",
       "      <td>CARRERA 120 No. 17-37</td>\n",
       "      <td>BIODIESEL EXTRA</td>\n",
       "      <td>8400</td>\n",
       "      <td>1</td>\n",
       "      <td>2018-05-02</td>\n",
       "      <td>2018</td>\n",
       "      <td>5</td>\n",
       "      <td>CARRERA 120 No. 17-37</td>\n",
       "      <td>CARRERA 120 No. 17-37, Bogota d.c., Colombia</td>\n",
       "      <td>(4.68585, -74.15736)</td>\n",
       "    </tr>\n",
       "    <tr>\n",
       "      <th>1</th>\n",
       "      <td>11</td>\n",
       "      <td>BOGOTA D.C.</td>\n",
       "      <td>11001</td>\n",
       "      <td>BOGOTA D.C.</td>\n",
       "      <td>ESTACION DE SERVICIO METROPOLITANA</td>\n",
       "      <td>MOBIL</td>\n",
       "      <td>CARRERA 120 No. 17-37</td>\n",
       "      <td>GASOLINA CORRIENTE OXIGENADA</td>\n",
       "      <td>9095</td>\n",
       "      <td>1</td>\n",
       "      <td>2018-05-02</td>\n",
       "      <td>2018</td>\n",
       "      <td>5</td>\n",
       "      <td>CARRERA 120 No. 17-37</td>\n",
       "      <td>CARRERA 120 No. 17-37, Bogota d.c., Colombia</td>\n",
       "      <td>(4.68585, -74.15736)</td>\n",
       "    </tr>\n",
       "  </tbody>\n",
       "</table>\n",
       "</div>"
      ],
      "text/plain": [
       "   departamentocodigo Departamento  municipiocodigo    Municipio  \\\n",
       "0                  11  BOGOTA D.C.            11001  BOGOTA D.C.   \n",
       "1                  11  BOGOTA D.C.            11001  BOGOTA D.C.   \n",
       "\n",
       "                     Nombre_comercial bandera              Direccion  \\\n",
       "0  ESTACION DE SERVICIO METROPOLITANA   MOBIL  CARRERA 120 No. 17-37   \n",
       "1  ESTACION DE SERVICIO METROPOLITANA   MOBIL  CARRERA 120 No. 17-37   \n",
       "\n",
       "                       producto  precio  estado fecharegistro  periodo  mes  \\\n",
       "0               BIODIESEL EXTRA    8400       1    2018-05-02     2018    5   \n",
       "1  GASOLINA CORRIENTE OXIGENADA    9095       1    2018-05-02     2018    5   \n",
       "\n",
       "                    Dir2                                  Full_Address  \\\n",
       "0  CARRERA 120 No. 17-37  CARRERA 120 No. 17-37, Bogota d.c., Colombia   \n",
       "1  CARRERA 120 No. 17-37  CARRERA 120 No. 17-37, Bogota d.c., Colombia   \n",
       "\n",
       "                 Coords  \n",
       "0  (4.68585, -74.15736)  \n",
       "1  (4.68585, -74.15736)  "
      ]
     },
     "execution_count": 5,
     "metadata": {},
     "output_type": "execute_result"
    }
   ],
   "source": [
    "df_map.head(2)"
   ]
  },
  {
   "cell_type": "code",
   "execution_count": 6,
   "id": "af282fc3",
   "metadata": {},
   "outputs": [],
   "source": [
    "df_map = df_map.rename(columns={\"bandera\": \"Bandera\", \"producto\": \"Producto\"})"
   ]
  },
  {
   "cell_type": "code",
   "execution_count": 7,
   "id": "33d9bad4",
   "metadata": {},
   "outputs": [],
   "source": [
    "df_map = df_map.drop_duplicates(subset=['Nombre_comercial','Bandera','Producto'])"
   ]
  },
  {
   "cell_type": "code",
   "execution_count": 8,
   "id": "205dbd05",
   "metadata": {},
   "outputs": [
    {
     "data": {
      "text/plain": [
       "1813"
      ]
     },
     "execution_count": 8,
     "metadata": {},
     "output_type": "execute_result"
    }
   ],
   "source": [
    "len(df_map)"
   ]
  },
  {
   "cell_type": "code",
   "execution_count": 9,
   "id": "7f84dfe2",
   "metadata": {},
   "outputs": [
    {
     "data": {
      "text/plain": [
       "('NA', 'NA')            69\n",
       "(4.68947, -74.06588)     8\n",
       "(7.97831, -75.19036)     6\n",
       "(1.3461, -75.04915)      6\n",
       "(4.58199, -74.10092)     6\n",
       "                        ..\n",
       "(6.32746, -75.56008)     1\n",
       "(6.27469, -75.5754)      1\n",
       "(6.28017, -75.57449)     1\n",
       "(2.94372, -75.24155)     1\n",
       "(4.59945, -74.11045)     1\n",
       "Name: Coords, Length: 547, dtype: int64"
      ]
     },
     "execution_count": 9,
     "metadata": {},
     "output_type": "execute_result"
    }
   ],
   "source": [
    "df_map['Coords'].value_counts()"
   ]
  },
  {
   "cell_type": "code",
   "execution_count": 10,
   "id": "0c2e3563",
   "metadata": {},
   "outputs": [
    {
     "data": {
      "text/plain": [
       "array(['Calle 47 No. 65-10', 'CARRERA 50 No. 44B-15',\n",
       "       'Avenida Carrera 30 # 2 - 38', 'DIAGONAL 51 # 35 - 120',\n",
       "       'CALLE 60 # 56A -37', 'K1 Glorieta Aeropuerto',\n",
       "       'GLORIETA JMC 0.2 KIM VIA GUARNE', 'Diagonal 43 No.45-275',\n",
       "       'Carrera 7 # 84 - 91', 'Calle 13 # 38 - 25', 'Carrera 48 No.52-02',\n",
       "       'Calle 19 # 33 - 68', 'Avenida 19 # 127C - 50', 'CRA 17 # 50-42',\n",
       "       'CALLE 80 # 24-30', 'Carrera 65 # 30 - 40',\n",
       "       'Carrera 47 Calle 64A-125', 'cra70#44-23',\n",
       "       'K 8 VIA LLANOGRANDE RIONEGRO', 'CARRERA 39A No. 62-30',\n",
       "       'CALLE 38 NO 55 A-85', 'Carrera 73 # 36A - 55 Sur'], dtype=object)"
      ]
     },
     "execution_count": 10,
     "metadata": {},
     "output_type": "execute_result"
    }
   ],
   "source": [
    "df_map[df_map['Coords']==\"('NA', 'NA')\"]['Direccion'].unique()"
   ]
  },
  {
   "cell_type": "code",
   "execution_count": 11,
   "id": "2559de8d",
   "metadata": {},
   "outputs": [
    {
     "name": "stdout",
     "output_type": "stream",
     "text": [
      "<class 'pandas.core.frame.DataFrame'>\n",
      "Int64Index: 1813 entries, 0 to 1812\n",
      "Data columns (total 16 columns):\n",
      " #   Column              Non-Null Count  Dtype \n",
      "---  ------              --------------  ----- \n",
      " 0   departamentocodigo  1813 non-null   int64 \n",
      " 1   Departamento        1813 non-null   object\n",
      " 2   municipiocodigo     1813 non-null   int64 \n",
      " 3   Municipio           1813 non-null   object\n",
      " 4   Nombre_comercial    1813 non-null   object\n",
      " 5   Bandera             1813 non-null   object\n",
      " 6   Direccion           1813 non-null   object\n",
      " 7   Producto            1813 non-null   object\n",
      " 8   precio              1813 non-null   int64 \n",
      " 9   estado              1813 non-null   int64 \n",
      " 10  fecharegistro       1813 non-null   object\n",
      " 11  periodo             1813 non-null   int64 \n",
      " 12  mes                 1813 non-null   int64 \n",
      " 13  Dir2                1813 non-null   object\n",
      " 14  Full_Address        1813 non-null   object\n",
      " 15  Coords              1813 non-null   object\n",
      "dtypes: int64(6), object(10)\n",
      "memory usage: 240.8+ KB\n"
     ]
    }
   ],
   "source": [
    "df_map.info()"
   ]
  },
  {
   "cell_type": "code",
   "execution_count": 12,
   "id": "50a66d09",
   "metadata": {},
   "outputs": [
    {
     "data": {
      "text/plain": [
       "'(4.68585, -74.15736)'"
      ]
     },
     "execution_count": 12,
     "metadata": {},
     "output_type": "execute_result"
    }
   ],
   "source": [
    "df_map['Coords'][0]"
   ]
  },
  {
   "cell_type": "code",
   "execution_count": 13,
   "id": "3cb48a7c",
   "metadata": {},
   "outputs": [
    {
     "data": {
      "text/plain": [
       "4.68585"
      ]
     },
     "execution_count": 13,
     "metadata": {},
     "output_type": "execute_result"
    }
   ],
   "source": [
    "float(df_map['Coords'][0].replace('(','').replace(')','').split(',')[0]) # Lat"
   ]
  },
  {
   "cell_type": "code",
   "execution_count": 14,
   "id": "6e37555b",
   "metadata": {},
   "outputs": [
    {
     "data": {
      "text/plain": [
       "-74.15736"
      ]
     },
     "execution_count": 14,
     "metadata": {},
     "output_type": "execute_result"
    }
   ],
   "source": [
    "float(df_map['Coords'][0].replace('(','').replace(')','').split(',')[1].strip()) # Longitud"
   ]
  },
  {
   "cell_type": "code",
   "execution_count": 15,
   "id": "134ba5be",
   "metadata": {},
   "outputs": [],
   "source": [
    "df_map['LAT'] = df_map['Coords'].apply(lambda x : float(x.replace('(','').replace(')','').split(',')[0]) if x !=  \"('NA', 'NA')\"  else 'Empty')\n",
    "df_map['LNG'] = df_map['Coords'].apply(lambda x : float(x.replace('(','').replace(')','').split(',')[1]) if x !=  \"('NA', 'NA')\"  else 'Empty')"
   ]
  },
  {
   "cell_type": "code",
   "execution_count": 16,
   "id": "83d53e9c",
   "metadata": {},
   "outputs": [
    {
     "data": {
      "text/plain": [
       "Empty      69\n",
       "4.5894      8\n",
       "4.59201     8\n",
       "4.68947     8\n",
       "4.59663     7\n",
       "           ..\n",
       "2.94372     1\n",
       "6.28006     1\n",
       "4.67605     1\n",
       "6.28017     1\n",
       "4.59945     1\n",
       "Name: LAT, Length: 538, dtype: int64"
      ]
     },
     "execution_count": 16,
     "metadata": {},
     "output_type": "execute_result"
    }
   ],
   "source": [
    "df_map['LAT'].value_counts()"
   ]
  },
  {
   "cell_type": "code",
   "execution_count": 17,
   "id": "9d1b5de0",
   "metadata": {},
   "outputs": [
    {
     "data": {
      "text/plain": [
       "Empty        69\n",
       "-74.06588     8\n",
       "-74.08027     8\n",
       "-74.09301     7\n",
       "-74.10592     7\n",
       "             ..\n",
       "-75.5754      1\n",
       "-75.57449     1\n",
       "-75.24155     1\n",
       "-75.60131     1\n",
       "-74.11045     1\n",
       "Name: LNG, Length: 541, dtype: int64"
      ]
     },
     "execution_count": 17,
     "metadata": {},
     "output_type": "execute_result"
    }
   ],
   "source": [
    "df_map['LNG'].value_counts()"
   ]
  },
  {
   "cell_type": "markdown",
   "id": "2a260484",
   "metadata": {},
   "source": [
    "# Funciones a usar "
   ]
  },
  {
   "cell_type": "code",
   "execution_count": 18,
   "id": "43474334",
   "metadata": {},
   "outputs": [],
   "source": [
    "def GetLatLon2(Address,YOUR_API_KEY): \n",
    "\n",
    "    url2_geocode  = f'https://geocode.search.hereapi.com/v1/geocode?q={Address}&apiKey='+YOUR_API_KEY\n",
    "    \n",
    "    try:\n",
    "        response = requests.get(url2_geocode).json()\n",
    "        CleanAddress = response['items'][0]['title'].upper()\n",
    "        LAT = response['items'][0]['position']['lat']\n",
    "        LON = response['items'][0]['position']['lng']\n",
    "        results = [CleanAddress,round(LAT,7),round(LON,7)]\n",
    "    except:\n",
    "        results = ['NotFound','NA','NA']\n",
    "    return results\n",
    "\n",
    "def GetLatLon2_google(Address,YOUR_API_KEY): \n",
    "\n",
    "    api_url = f'https://maps.googleapis.com/maps/api/geocode/json?address={Address}&key={YOUR_API_KEY}'\n",
    "    try:\n",
    "        j = requests.get(api_url).json()\n",
    "        CleanAddress = str(j['results'][0]['formatted_address']).upper()\n",
    "        LAT = j['results'][0]['geometry']['location']['lat']\n",
    "        LON = j['results'][0]['geometry']['location']['lng']\n",
    "        results = [CleanAddress,round(LAT,7),round(LON,7)]\n",
    "    except:\n",
    "        results = ['NotFound','NA','NA']\n",
    "    return results,j \n",
    "\n",
    "\n",
    "def cal_dist(geo_source,point2,unit):\n",
    "    \n",
    "    \n",
    "    if unit == 'Km':\n",
    "        distance = haversine(geo_source, point2,Unit.KILOMETERS)\n",
    "    elif unit == 'm':\n",
    "        distance = haversine(geo_source, point2,Unit.METERS)\n",
    "    elif unit == 'miles':\n",
    "        distance = haversine(geo_source, point2,Unit.MILES)\n",
    "    \n",
    "    return round(distance,2)\n",
    "\n",
    "\n",
    "def distance_estac(geo_source,df,radio,unit):\n",
    "    \n",
    "    \n",
    "    distancia = []\n",
    "    source = []\n",
    "\n",
    "\n",
    "    for i in tqdm(range(len(df)),colour = 'green'):\n",
    "        distancia.append(cal_dist(geo_source,df['POINT'][i],unit))\n",
    "        source.append(geo_source)\n",
    "\n",
    "    new_df = df.copy()\n",
    "    new_df['SOURCE'] = source\n",
    "    new_df['DISTANCE'] = distancia\n",
    "    new_df = new_df[new_df['DISTANCE']<=radio]\n",
    "    new_df = new_df.reset_index()\n",
    "    new_df = new_df.drop(columns ='index')\n",
    "    return new_df.sort_values(by='DISTANCE',ascending=True)\n",
    "\n",
    "def transform_df_map(df):\n",
    "    \n",
    "\n",
    "    coordenadas = []\n",
    "\n",
    "    for i in range(len(df)):\n",
    "        \n",
    "        try :\n",
    "            \n",
    "            coord = float(df['LAT'][i]),float(df['LNG'][i])\n",
    "            coordenadas.append(coord)\n",
    "\n",
    "        except :\n",
    "            \n",
    "            coordenadas.append('EMPTY')\n",
    "            \n",
    "    df['POINT'] = coordenadas\n",
    "    df = df[df['POINT']!='EMPTY']\n",
    "    df = df.reset_index()\n",
    "    df = df.drop(columns = 'index')\n",
    "    new_df = df.copy()\n",
    "    \n",
    "    return new_df"
   ]
  },
  {
   "cell_type": "markdown",
   "id": "9fd59b77",
   "metadata": {},
   "source": [
    "# Paso a Paso de la App\n",
    "\n",
    "1. Filtrar la ciudad\n",
    "2. Ingresar la central location\n",
    "3. Configurar el radio y la unidad de medida\n",
    "4. Calcular la distancia\n"
   ]
  },
  {
   "cell_type": "markdown",
   "id": "ad6692f9",
   "metadata": {},
   "source": [
    "# Filtrar ciudad"
   ]
  },
  {
   "cell_type": "code",
   "execution_count": 19,
   "id": "c6f2d013",
   "metadata": {},
   "outputs": [
    {
     "data": {
      "text/plain": [
       "['BOGOTA D.C.',\n",
       " 'MEDELLIN',\n",
       " 'ENVIGADO',\n",
       " 'CANON DE RIO CLARO',\n",
       " 'ITAGUI',\n",
       " 'CAUCASIA',\n",
       " 'BELLO']"
      ]
     },
     "execution_count": 19,
     "metadata": {},
     "output_type": "execute_result"
    }
   ],
   "source": [
    "cities = list(df_map['Municipio'].unique())\n",
    "cities"
   ]
  },
  {
   "cell_type": "code",
   "execution_count": 30,
   "id": "a93c6ee1",
   "metadata": {},
   "outputs": [
    {
     "name": "stderr",
     "output_type": "stream",
     "text": [
      "C:\\Users\\Jiord\\AppData\\Local\\Temp\\ipykernel_14512\\291911198.py:3: SettingWithCopyWarning: \n",
      "A value is trying to be set on a copy of a slice from a DataFrame\n",
      "\n",
      "See the caveats in the documentation: https://pandas.pydata.org/pandas-docs/stable/user_guide/indexing.html#returning-a-view-versus-a-copy\n",
      "  df_city.drop(columns= 'index' , inplace = True)\n"
     ]
    }
   ],
   "source": [
    "df_city = df_map[df_map['Municipio']==cities[0]]\n",
    "df_city.reset_index(inplace =  True)\n",
    "df_city.drop(columns= 'index' , inplace = True)"
   ]
  },
  {
   "cell_type": "code",
   "execution_count": 31,
   "id": "647c587f",
   "metadata": {},
   "outputs": [
    {
     "data": {
      "text/html": [
       "<div>\n",
       "<style scoped>\n",
       "    .dataframe tbody tr th:only-of-type {\n",
       "        vertical-align: middle;\n",
       "    }\n",
       "\n",
       "    .dataframe tbody tr th {\n",
       "        vertical-align: top;\n",
       "    }\n",
       "\n",
       "    .dataframe thead th {\n",
       "        text-align: right;\n",
       "    }\n",
       "</style>\n",
       "<table border=\"1\" class=\"dataframe\">\n",
       "  <thead>\n",
       "    <tr style=\"text-align: right;\">\n",
       "      <th></th>\n",
       "      <th>departamentocodigo</th>\n",
       "      <th>Departamento</th>\n",
       "      <th>municipiocodigo</th>\n",
       "      <th>Municipio</th>\n",
       "      <th>Nombre_comercial</th>\n",
       "      <th>Bandera</th>\n",
       "      <th>Direccion</th>\n",
       "      <th>Producto</th>\n",
       "      <th>precio</th>\n",
       "      <th>estado</th>\n",
       "      <th>fecharegistro</th>\n",
       "      <th>periodo</th>\n",
       "      <th>mes</th>\n",
       "      <th>Dir2</th>\n",
       "      <th>Full_Address</th>\n",
       "      <th>Coords</th>\n",
       "      <th>LAT</th>\n",
       "      <th>LNG</th>\n",
       "    </tr>\n",
       "  </thead>\n",
       "  <tbody>\n",
       "    <tr>\n",
       "      <th>0</th>\n",
       "      <td>11</td>\n",
       "      <td>BOGOTA D.C.</td>\n",
       "      <td>11001</td>\n",
       "      <td>BOGOTA D.C.</td>\n",
       "      <td>ESTACION DE SERVICIO METROPOLITANA</td>\n",
       "      <td>MOBIL</td>\n",
       "      <td>CARRERA 120 No. 17-37</td>\n",
       "      <td>BIODIESEL EXTRA</td>\n",
       "      <td>8400</td>\n",
       "      <td>1</td>\n",
       "      <td>2018-05-02</td>\n",
       "      <td>2018</td>\n",
       "      <td>5</td>\n",
       "      <td>CARRERA 120 No. 17-37</td>\n",
       "      <td>CARRERA 120 No. 17-37, Bogota d.c., Colombia</td>\n",
       "      <td>(4.68585, -74.15736)</td>\n",
       "      <td>4.68585</td>\n",
       "      <td>-74.15736</td>\n",
       "    </tr>\n",
       "    <tr>\n",
       "      <th>1</th>\n",
       "      <td>11</td>\n",
       "      <td>BOGOTA D.C.</td>\n",
       "      <td>11001</td>\n",
       "      <td>BOGOTA D.C.</td>\n",
       "      <td>ESTACION DE SERVICIO METROPOLITANA</td>\n",
       "      <td>MOBIL</td>\n",
       "      <td>CARRERA 120 No. 17-37</td>\n",
       "      <td>GASOLINA CORRIENTE OXIGENADA</td>\n",
       "      <td>9095</td>\n",
       "      <td>1</td>\n",
       "      <td>2018-05-02</td>\n",
       "      <td>2018</td>\n",
       "      <td>5</td>\n",
       "      <td>CARRERA 120 No. 17-37</td>\n",
       "      <td>CARRERA 120 No. 17-37, Bogota d.c., Colombia</td>\n",
       "      <td>(4.68585, -74.15736)</td>\n",
       "      <td>4.68585</td>\n",
       "      <td>-74.15736</td>\n",
       "    </tr>\n",
       "  </tbody>\n",
       "</table>\n",
       "</div>"
      ],
      "text/plain": [
       "   departamentocodigo Departamento  municipiocodigo    Municipio  \\\n",
       "0                  11  BOGOTA D.C.            11001  BOGOTA D.C.   \n",
       "1                  11  BOGOTA D.C.            11001  BOGOTA D.C.   \n",
       "\n",
       "                     Nombre_comercial Bandera              Direccion  \\\n",
       "0  ESTACION DE SERVICIO METROPOLITANA   MOBIL  CARRERA 120 No. 17-37   \n",
       "1  ESTACION DE SERVICIO METROPOLITANA   MOBIL  CARRERA 120 No. 17-37   \n",
       "\n",
       "                       Producto  precio  estado fecharegistro  periodo  mes  \\\n",
       "0               BIODIESEL EXTRA    8400       1    2018-05-02     2018    5   \n",
       "1  GASOLINA CORRIENTE OXIGENADA    9095       1    2018-05-02     2018    5   \n",
       "\n",
       "                    Dir2                                  Full_Address  \\\n",
       "0  CARRERA 120 No. 17-37  CARRERA 120 No. 17-37, Bogota d.c., Colombia   \n",
       "1  CARRERA 120 No. 17-37  CARRERA 120 No. 17-37, Bogota d.c., Colombia   \n",
       "\n",
       "                 Coords      LAT       LNG  \n",
       "0  (4.68585, -74.15736)  4.68585 -74.15736  \n",
       "1  (4.68585, -74.15736)  4.68585 -74.15736  "
      ]
     },
     "execution_count": 31,
     "metadata": {},
     "output_type": "execute_result"
    }
   ],
   "source": [
    "df_city.head(2)"
   ]
  },
  {
   "cell_type": "code",
   "execution_count": 32,
   "id": "130be228",
   "metadata": {},
   "outputs": [],
   "source": [
    "central_location = 'CC Multiplaza , Bogotá'\n",
    "central_location = central_location.replace('#','No')\n",
    "R = GetLatLon2(central_location,YOUR_API_KEY)"
   ]
  },
  {
   "cell_type": "code",
   "execution_count": 33,
   "id": "6e8a883e",
   "metadata": {},
   "outputs": [
    {
     "data": {
      "text/plain": [
       "(4.65226, -74.12695)"
      ]
     },
     "execution_count": 33,
     "metadata": {},
     "output_type": "execute_result"
    }
   ],
   "source": [
    "geo_source = R[1],R[2]\n",
    "geo_source"
   ]
  },
  {
   "cell_type": "code",
   "execution_count": 34,
   "id": "31639e08",
   "metadata": {},
   "outputs": [],
   "source": [
    "radio = 1\n",
    "unit = 'Km'"
   ]
  },
  {
   "cell_type": "code",
   "execution_count": 35,
   "id": "c207713c",
   "metadata": {},
   "outputs": [
    {
     "name": "stderr",
     "output_type": "stream",
     "text": [
      "C:\\Users\\Jiord\\AppData\\Local\\Temp\\ipykernel_14512\\2018751417.py:77: SettingWithCopyWarning: \n",
      "A value is trying to be set on a copy of a slice from a DataFrame.\n",
      "Try using .loc[row_indexer,col_indexer] = value instead\n",
      "\n",
      "See the caveats in the documentation: https://pandas.pydata.org/pandas-docs/stable/user_guide/indexing.html#returning-a-view-versus-a-copy\n",
      "  df['POINT'] = coordenadas\n"
     ]
    },
    {
     "data": {
      "text/html": [
       "<div>\n",
       "<style scoped>\n",
       "    .dataframe tbody tr th:only-of-type {\n",
       "        vertical-align: middle;\n",
       "    }\n",
       "\n",
       "    .dataframe tbody tr th {\n",
       "        vertical-align: top;\n",
       "    }\n",
       "\n",
       "    .dataframe thead th {\n",
       "        text-align: right;\n",
       "    }\n",
       "</style>\n",
       "<table border=\"1\" class=\"dataframe\">\n",
       "  <thead>\n",
       "    <tr style=\"text-align: right;\">\n",
       "      <th></th>\n",
       "      <th>departamentocodigo</th>\n",
       "      <th>Departamento</th>\n",
       "      <th>municipiocodigo</th>\n",
       "      <th>Municipio</th>\n",
       "      <th>Nombre_comercial</th>\n",
       "      <th>Bandera</th>\n",
       "      <th>Direccion</th>\n",
       "      <th>Producto</th>\n",
       "      <th>precio</th>\n",
       "      <th>estado</th>\n",
       "      <th>fecharegistro</th>\n",
       "      <th>periodo</th>\n",
       "      <th>mes</th>\n",
       "      <th>Dir2</th>\n",
       "      <th>Full_Address</th>\n",
       "      <th>Coords</th>\n",
       "      <th>LAT</th>\n",
       "      <th>LNG</th>\n",
       "      <th>POINT</th>\n",
       "    </tr>\n",
       "  </thead>\n",
       "  <tbody>\n",
       "    <tr>\n",
       "      <th>0</th>\n",
       "      <td>11</td>\n",
       "      <td>BOGOTA D.C.</td>\n",
       "      <td>11001</td>\n",
       "      <td>BOGOTA D.C.</td>\n",
       "      <td>ESTACION DE SERVICIO METROPOLITANA</td>\n",
       "      <td>MOBIL</td>\n",
       "      <td>CARRERA 120 No. 17-37</td>\n",
       "      <td>BIODIESEL EXTRA</td>\n",
       "      <td>8400</td>\n",
       "      <td>1</td>\n",
       "      <td>2018-05-02</td>\n",
       "      <td>2018</td>\n",
       "      <td>5</td>\n",
       "      <td>CARRERA 120 No. 17-37</td>\n",
       "      <td>CARRERA 120 No. 17-37, Bogota d.c., Colombia</td>\n",
       "      <td>(4.68585, -74.15736)</td>\n",
       "      <td>4.68585</td>\n",
       "      <td>-74.15736</td>\n",
       "      <td>(4.68585, -74.15736)</td>\n",
       "    </tr>\n",
       "    <tr>\n",
       "      <th>1</th>\n",
       "      <td>11</td>\n",
       "      <td>BOGOTA D.C.</td>\n",
       "      <td>11001</td>\n",
       "      <td>BOGOTA D.C.</td>\n",
       "      <td>ESTACION DE SERVICIO METROPOLITANA</td>\n",
       "      <td>MOBIL</td>\n",
       "      <td>CARRERA 120 No. 17-37</td>\n",
       "      <td>GASOLINA CORRIENTE OXIGENADA</td>\n",
       "      <td>9095</td>\n",
       "      <td>1</td>\n",
       "      <td>2018-05-02</td>\n",
       "      <td>2018</td>\n",
       "      <td>5</td>\n",
       "      <td>CARRERA 120 No. 17-37</td>\n",
       "      <td>CARRERA 120 No. 17-37, Bogota d.c., Colombia</td>\n",
       "      <td>(4.68585, -74.15736)</td>\n",
       "      <td>4.68585</td>\n",
       "      <td>-74.15736</td>\n",
       "      <td>(4.68585, -74.15736)</td>\n",
       "    </tr>\n",
       "  </tbody>\n",
       "</table>\n",
       "</div>"
      ],
      "text/plain": [
       "   departamentocodigo Departamento  municipiocodigo    Municipio  \\\n",
       "0                  11  BOGOTA D.C.            11001  BOGOTA D.C.   \n",
       "1                  11  BOGOTA D.C.            11001  BOGOTA D.C.   \n",
       "\n",
       "                     Nombre_comercial Bandera              Direccion  \\\n",
       "0  ESTACION DE SERVICIO METROPOLITANA   MOBIL  CARRERA 120 No. 17-37   \n",
       "1  ESTACION DE SERVICIO METROPOLITANA   MOBIL  CARRERA 120 No. 17-37   \n",
       "\n",
       "                       Producto  precio  estado fecharegistro  periodo  mes  \\\n",
       "0               BIODIESEL EXTRA    8400       1    2018-05-02     2018    5   \n",
       "1  GASOLINA CORRIENTE OXIGENADA    9095       1    2018-05-02     2018    5   \n",
       "\n",
       "                    Dir2                                  Full_Address  \\\n",
       "0  CARRERA 120 No. 17-37  CARRERA 120 No. 17-37, Bogota d.c., Colombia   \n",
       "1  CARRERA 120 No. 17-37  CARRERA 120 No. 17-37, Bogota d.c., Colombia   \n",
       "\n",
       "                 Coords      LAT       LNG                 POINT  \n",
       "0  (4.68585, -74.15736)  4.68585 -74.15736  (4.68585, -74.15736)  \n",
       "1  (4.68585, -74.15736)  4.68585 -74.15736  (4.68585, -74.15736)  "
      ]
     },
     "execution_count": 35,
     "metadata": {},
     "output_type": "execute_result"
    }
   ],
   "source": [
    "df_city =  transform_df_map(df_city)\n",
    "df_city.head(2)"
   ]
  },
  {
   "cell_type": "code",
   "execution_count": 36,
   "id": "4c140f7a",
   "metadata": {},
   "outputs": [
    {
     "data": {
      "text/plain": [
       "(4.68585, -74.15736)"
      ]
     },
     "execution_count": 36,
     "metadata": {},
     "output_type": "execute_result"
    }
   ],
   "source": [
    "df_city['POINT'][0]"
   ]
  },
  {
   "cell_type": "code",
   "execution_count": 37,
   "id": "82601292",
   "metadata": {},
   "outputs": [
    {
     "name": "stderr",
     "output_type": "stream",
     "text": [
      "100%|\u001b[32m██████████\u001b[0m| 1246/1246 [00:00<00:00, 59102.10it/s]\n"
     ]
    }
   ],
   "source": [
    "results = distance_estac(geo_source,df_city,radio,unit)\n",
    "results.reset_index(inplace =  True)\n",
    "results.drop(columns= 'index' , inplace = True)"
   ]
  },
  {
   "cell_type": "code",
   "execution_count": 38,
   "id": "d5beefce",
   "metadata": {},
   "outputs": [
    {
     "data": {
      "text/plain": [
       "array(['EDS ESSO INDUSTRIAL BOYACA',\n",
       "       'ESTACION DE SERVICIO MILENIUM GAS CALLE 13',\n",
       "       'ESTACION DE SERVICIO FERROCARRIL', 'EDS CALLE 13',\n",
       "       'ESTACION DE SERVICIO TERPEL VILLA ALZACIA',\n",
       "       'ESTACION DE SERVICIO VILLA ALSACIA'], dtype=object)"
      ]
     },
     "execution_count": 38,
     "metadata": {},
     "output_type": "execute_result"
    }
   ],
   "source": [
    "results['Nombre_comercial'].unique()"
   ]
  },
  {
   "cell_type": "code",
   "execution_count": 39,
   "id": "c7bb2a2d",
   "metadata": {},
   "outputs": [
    {
     "data": {
      "text/plain": [
       "array(['GASOLINA CORRIENTE OXIGENADA', 'BIODIESEL EXTRA', 'BIOACEM AL 9%',\n",
       "       'GASOLINA EXTRA OXIGENADA'], dtype=object)"
      ]
     },
     "execution_count": 39,
     "metadata": {},
     "output_type": "execute_result"
    }
   ],
   "source": [
    "results['Producto'].unique()"
   ]
  },
  {
   "cell_type": "code",
   "execution_count": 40,
   "id": "ddc68258",
   "metadata": {},
   "outputs": [
    {
     "data": {
      "text/plain": [
       "pandas.core.frame.DataFrame"
      ]
     },
     "execution_count": 40,
     "metadata": {},
     "output_type": "execute_result"
    }
   ],
   "source": [
    "type(results)"
   ]
  },
  {
   "cell_type": "code",
   "execution_count": 41,
   "id": "bdea799a",
   "metadata": {},
   "outputs": [],
   "source": [
    "gdf_results = GeoDataFrame(results,\n",
    "                          geometry =  points_from_xy(results.LNG,results.LAT))"
   ]
  },
  {
   "cell_type": "code",
   "execution_count": 42,
   "id": "b259b4f3",
   "metadata": {},
   "outputs": [
    {
     "data": {
      "text/plain": [
       "geopandas.geodataframe.GeoDataFrame"
      ]
     },
     "execution_count": 42,
     "metadata": {},
     "output_type": "execute_result"
    }
   ],
   "source": [
    "type(gdf_results)"
   ]
  },
  {
   "cell_type": "code",
   "execution_count": 43,
   "id": "096c8ad8",
   "metadata": {},
   "outputs": [
    {
     "data": {
      "text/html": [
       "<div>\n",
       "<style scoped>\n",
       "    .dataframe tbody tr th:only-of-type {\n",
       "        vertical-align: middle;\n",
       "    }\n",
       "\n",
       "    .dataframe tbody tr th {\n",
       "        vertical-align: top;\n",
       "    }\n",
       "\n",
       "    .dataframe thead th {\n",
       "        text-align: right;\n",
       "    }\n",
       "</style>\n",
       "<table border=\"1\" class=\"dataframe\">\n",
       "  <thead>\n",
       "    <tr style=\"text-align: right;\">\n",
       "      <th></th>\n",
       "      <th>departamentocodigo</th>\n",
       "      <th>Departamento</th>\n",
       "      <th>municipiocodigo</th>\n",
       "      <th>Municipio</th>\n",
       "      <th>Nombre_comercial</th>\n",
       "      <th>Bandera</th>\n",
       "      <th>Direccion</th>\n",
       "      <th>Producto</th>\n",
       "      <th>precio</th>\n",
       "      <th>estado</th>\n",
       "      <th>...</th>\n",
       "      <th>mes</th>\n",
       "      <th>Dir2</th>\n",
       "      <th>Full_Address</th>\n",
       "      <th>Coords</th>\n",
       "      <th>LAT</th>\n",
       "      <th>LNG</th>\n",
       "      <th>POINT</th>\n",
       "      <th>SOURCE</th>\n",
       "      <th>DISTANCE</th>\n",
       "      <th>geometry</th>\n",
       "    </tr>\n",
       "  </thead>\n",
       "  <tbody>\n",
       "    <tr>\n",
       "      <th>0</th>\n",
       "      <td>11</td>\n",
       "      <td>BOGOTA D.C.</td>\n",
       "      <td>11001</td>\n",
       "      <td>BOGOTA D.C.</td>\n",
       "      <td>EDS ESSO INDUSTRIAL BOYACA</td>\n",
       "      <td>MOBIL</td>\n",
       "      <td>CARRERA 71 No. 19-05</td>\n",
       "      <td>GASOLINA CORRIENTE OXIGENADA</td>\n",
       "      <td>9090</td>\n",
       "      <td>1</td>\n",
       "      <td>...</td>\n",
       "      <td>5</td>\n",
       "      <td>CARRERA 71 No. 19-05</td>\n",
       "      <td>CARRERA 71 No. 19-05, Bogota d.c., Colombia</td>\n",
       "      <td>(4.65127, -74.1234)</td>\n",
       "      <td>4.65127</td>\n",
       "      <td>-74.1234</td>\n",
       "      <td>(4.65127, -74.1234)</td>\n",
       "      <td>(4.65226, -74.12695)</td>\n",
       "      <td>0.41</td>\n",
       "      <td>POINT (-74.12340 4.65127)</td>\n",
       "    </tr>\n",
       "    <tr>\n",
       "      <th>1</th>\n",
       "      <td>11</td>\n",
       "      <td>BOGOTA D.C.</td>\n",
       "      <td>11001</td>\n",
       "      <td>BOGOTA D.C.</td>\n",
       "      <td>EDS ESSO INDUSTRIAL BOYACA</td>\n",
       "      <td>MOBIL</td>\n",
       "      <td>CARRERA 71 No. 19-05</td>\n",
       "      <td>BIODIESEL EXTRA</td>\n",
       "      <td>9190</td>\n",
       "      <td>1</td>\n",
       "      <td>...</td>\n",
       "      <td>5</td>\n",
       "      <td>CARRERA 71 No. 19-05</td>\n",
       "      <td>CARRERA 71 No. 19-05, Bogota d.c., Colombia</td>\n",
       "      <td>(4.65127, -74.1234)</td>\n",
       "      <td>4.65127</td>\n",
       "      <td>-74.1234</td>\n",
       "      <td>(4.65127, -74.1234)</td>\n",
       "      <td>(4.65226, -74.12695)</td>\n",
       "      <td>0.41</td>\n",
       "      <td>POINT (-74.12340 4.65127)</td>\n",
       "    </tr>\n",
       "  </tbody>\n",
       "</table>\n",
       "<p>2 rows × 22 columns</p>\n",
       "</div>"
      ],
      "text/plain": [
       "   departamentocodigo Departamento  municipiocodigo    Municipio  \\\n",
       "0                  11  BOGOTA D.C.            11001  BOGOTA D.C.   \n",
       "1                  11  BOGOTA D.C.            11001  BOGOTA D.C.   \n",
       "\n",
       "             Nombre_comercial Bandera             Direccion  \\\n",
       "0  EDS ESSO INDUSTRIAL BOYACA   MOBIL  CARRERA 71 No. 19-05   \n",
       "1  EDS ESSO INDUSTRIAL BOYACA   MOBIL  CARRERA 71 No. 19-05   \n",
       "\n",
       "                       Producto  precio  estado  ... mes  \\\n",
       "0  GASOLINA CORRIENTE OXIGENADA    9090       1  ...   5   \n",
       "1               BIODIESEL EXTRA    9190       1  ...   5   \n",
       "\n",
       "                   Dir2                                 Full_Address  \\\n",
       "0  CARRERA 71 No. 19-05  CARRERA 71 No. 19-05, Bogota d.c., Colombia   \n",
       "1  CARRERA 71 No. 19-05  CARRERA 71 No. 19-05, Bogota d.c., Colombia   \n",
       "\n",
       "                Coords      LAT      LNG                POINT  \\\n",
       "0  (4.65127, -74.1234)  4.65127 -74.1234  (4.65127, -74.1234)   \n",
       "1  (4.65127, -74.1234)  4.65127 -74.1234  (4.65127, -74.1234)   \n",
       "\n",
       "                 SOURCE DISTANCE                   geometry  \n",
       "0  (4.65226, -74.12695)     0.41  POINT (-74.12340 4.65127)  \n",
       "1  (4.65226, -74.12695)     0.41  POINT (-74.12340 4.65127)  \n",
       "\n",
       "[2 rows x 22 columns]"
      ]
     },
     "execution_count": 43,
     "metadata": {},
     "output_type": "execute_result"
    }
   ],
   "source": [
    "gdf_results.head(2)"
   ]
  },
  {
   "cell_type": "code",
   "execution_count": 44,
   "id": "508114f6",
   "metadata": {},
   "outputs": [
    {
     "data": {
      "image/svg+xml": "<svg xmlns=\"http://www.w3.org/2000/svg\" xmlns:xlink=\"http://www.w3.org/1999/xlink\" width=\"100.0\" height=\"100.0\" viewBox=\"-75.1234 3.6512700000000002 2.0 2.0\" preserveAspectRatio=\"xMinYMin meet\"><g transform=\"matrix(1,0,0,-1,0,9.30254)\"><circle cx=\"-74.1234\" cy=\"4.65127\" r=\"0.06\" stroke=\"#555555\" stroke-width=\"0.02\" fill=\"#66cc99\" opacity=\"0.6\" /></g></svg>",
      "text/plain": [
       "<POINT (-74.123 4.651)>"
      ]
     },
     "execution_count": 44,
     "metadata": {},
     "output_type": "execute_result"
    }
   ],
   "source": [
    "gdf_results['geometry'][0]"
   ]
  },
  {
   "cell_type": "code",
   "execution_count": 45,
   "id": "b55595e8",
   "metadata": {},
   "outputs": [
    {
     "data": {
      "text/plain": [
       "['GASOLINA CORRIENTE OXIGENADA',\n",
       " 'BIODIESEL EXTRA',\n",
       " 'BIOACEM AL 9%',\n",
       " 'GASOLINA EXTRA OXIGENADA']"
      ]
     },
     "execution_count": 45,
     "metadata": {},
     "output_type": "execute_result"
    }
   ],
   "source": [
    "oil = list(gdf_results['Producto'].unique())\n",
    "oil"
   ]
  },
  {
   "cell_type": "code",
   "execution_count": 46,
   "id": "1f663060",
   "metadata": {},
   "outputs": [
    {
     "name": "stderr",
     "output_type": "stream",
     "text": [
      "C:\\Users\\Jiord\\AppData\\Local\\Temp\\ipykernel_14512\\3804081380.py:3: SettingWithCopyWarning: \n",
      "A value is trying to be set on a copy of a slice from a DataFrame\n",
      "\n",
      "See the caveats in the documentation: https://pandas.pydata.org/pandas-docs/stable/user_guide/indexing.html#returning-a-view-versus-a-copy\n",
      "  gdf_results_2.drop(columns= 'index' , inplace = True)\n"
     ]
    }
   ],
   "source": [
    "gdf_results_2 = gdf_results[gdf_results['Producto']==oil[1]]\n",
    "gdf_results_2.reset_index(inplace =  True)\n",
    "gdf_results_2.drop(columns= 'index' , inplace = True)"
   ]
  },
  {
   "cell_type": "code",
   "execution_count": 47,
   "id": "e4a35293",
   "metadata": {},
   "outputs": [
    {
     "data": {
      "text/plain": [
       "Index(['departamentocodigo', 'Departamento', 'municipiocodigo', 'Municipio',\n",
       "       'Nombre_comercial', 'Bandera', 'Direccion', 'Producto', 'precio',\n",
       "       'estado', 'fecharegistro', 'periodo', 'mes', 'Dir2', 'Full_Address',\n",
       "       'Coords', 'LAT', 'LNG', 'POINT', 'SOURCE', 'DISTANCE', 'geometry'],\n",
       "      dtype='object')"
      ]
     },
     "execution_count": 47,
     "metadata": {},
     "output_type": "execute_result"
    }
   ],
   "source": [
    "gdf_results_2.columns"
   ]
  },
  {
   "cell_type": "code",
   "execution_count": 51,
   "id": "ba237a56",
   "metadata": {},
   "outputs": [],
   "source": [
    "gdf_results_2 = gdf_results_2.rename(columns={\"precio\": \"Precio\"})"
   ]
  },
  {
   "cell_type": "code",
   "execution_count": 52,
   "id": "b8f72ebd",
   "metadata": {},
   "outputs": [
    {
     "data": {
      "text/plain": [
       "8000"
      ]
     },
     "execution_count": 52,
     "metadata": {},
     "output_type": "execute_result"
    }
   ],
   "source": [
    "gdf_results_2['Precio'].min()"
   ]
  },
  {
   "cell_type": "code",
   "execution_count": 53,
   "id": "6932f680",
   "metadata": {},
   "outputs": [
    {
     "data": {
      "text/plain": [
       "9190"
      ]
     },
     "execution_count": 53,
     "metadata": {},
     "output_type": "execute_result"
    }
   ],
   "source": [
    "gdf_results_2['Precio'].max()"
   ]
  },
  {
   "cell_type": "code",
   "execution_count": 54,
   "id": "93604752",
   "metadata": {},
   "outputs": [],
   "source": [
    "def marker_rest(df,mapa,unit,oil,icono):\n",
    "    \n",
    "    df = df[df['Producto']==oil]\n",
    "    df = df.reset_index()\n",
    "    df = df.drop(columns = 'index')\n",
    "    \n",
    "    for i in range(len(df)):\n",
    "        \n",
    "        if df['Precio'][i]==df['Precio'].min():\n",
    "        \n",
    "            html =  f\"\"\"<b>MARCA:</b> {df.Bandera[i]} <br>\n",
    "                    <b>NAME:</b> {df.Nombre_comercial[i]} <br>\n",
    "                    <b>PRODUCTO:</b> {df.Producto[i]} <br>\n",
    "                    <b>PRECIO:</b> {df.Precio[i]} <br>\n",
    "                    <b>DISTANCE:</b> {round(df.DISTANCE[i],2)}<br>\n",
    "                    <b>DIRECCION:</b> {df.Direccion[i]}<br>\n",
    "                    <b>UNIT:</b> {unit}<br>\"\"\"\n",
    "            iframe = folium.IFrame(html,figsize=(6, 3))\n",
    "            popup = folium.Popup(iframe)\n",
    "            \n",
    "\n",
    "\n",
    "\n",
    "            folium.Marker(location=[float(df['LAT'][i]),float(df['LNG'][i])],\n",
    "                               icon=folium.Icon(color='darkgreen', icon_color='white',\n",
    "                               icon=icono, prefix='glyphicon'),\n",
    "                               popup = popup).add_to(mapa)\n",
    "        \n",
    "        elif df['Precio'][i]==df['Precio'].max():\n",
    "        \n",
    "            html =  f\"\"\"<b>MARCA:</b> {df.Bandera[i]} <br>\n",
    "                    <b>NAME:</b> {df.Nombre_comercial[i]} <br>\n",
    "                    <b>PRODUCTO:</b> {df.Producto[i]} <br>\n",
    "                    <b>PRECIO:</b> {df.Precio[i]} <br>\n",
    "                    <b>DISTANCE:</b> {round(df.DISTANCE[i],2)}<br>\n",
    "                    <b>DIRECCION:</b> {df.Direccion[i]}<br>\n",
    "                    <b>UNIT:</b> {unit}<br>\"\"\"\n",
    "            iframe = folium.IFrame(html,figsize=(6, 3))\n",
    "            popup = folium.Popup(iframe)\n",
    "\n",
    "\n",
    "\n",
    "            folium.Marker(location=[float(df['LAT'][i]),float(df['LNG'][i])],\n",
    "                               icon=folium.Icon(color='darkred', icon_color='white',\n",
    "                               icon=icono, prefix='glyphicon'),\n",
    "                               popup =popup).add_to(mapa)\n",
    "        else :\n",
    "            html =  f\"\"\"<b>MARCA:</b> {df.Bandera[i]} <br>\n",
    "                    <b>NAME:</b> {df.Nombre_comercial[i]} <br>\n",
    "                    <b>PRODUCTO:</b> {df.Producto[i]} <br>\n",
    "                    <b>PRECIO:</b> {df.Precio[i]} <br>\n",
    "                    <b>DISTANCE:</b> {round(df.DISTANCE[i],2)}<br>\n",
    "                    <b>DIRECCION:</b> {df.Direccion[i]}<br>\n",
    "                    <b>UNIT:</b> {unit}<br>\"\"\"\n",
    "            iframe = folium.IFrame(html,figsize=(6, 3))\n",
    "            popup = folium.Popup(iframe)\n",
    "\n",
    "\n",
    "\n",
    "            folium.Marker(location=[float(df['LAT'][i]),float(df['LNG'][i])],\n",
    "                               icon=folium.Icon(color='orange', icon_color='white',\n",
    "                               icon=icono, prefix='glyphicon'),\n",
    "                               popup =popup).add_to(mapa)\n",
    "                           \n",
    "    return"
   ]
  },
  {
   "cell_type": "markdown",
   "id": "6ac3b35e",
   "metadata": {},
   "source": [
    "# Show Map"
   ]
  },
  {
   "cell_type": "code",
   "execution_count": 55,
   "id": "4aabc8a3",
   "metadata": {},
   "outputs": [
    {
     "data": {
      "text/html": [
       "<div style=\"width:100%;\"><div style=\"position:relative;width:100%;height:0;padding-bottom:60%;\"><span style=\"color:#565656\">Make this Notebook Trusted to load map: File -> Trust Notebook</span><iframe srcdoc=\"&lt;!DOCTYPE html&gt;\n",
       "&lt;html&gt;\n",
       "&lt;head&gt;\n",
       "    \n",
       "    &lt;meta http-equiv=&quot;content-type&quot; content=&quot;text/html; charset=UTF-8&quot; /&gt;\n",
       "    \n",
       "        &lt;script&gt;\n",
       "            L_NO_TOUCH = false;\n",
       "            L_DISABLE_3D = false;\n",
       "        &lt;/script&gt;\n",
       "    \n",
       "    &lt;style&gt;html, body {width: 100%;height: 100%;margin: 0;padding: 0;}&lt;/style&gt;\n",
       "    &lt;style&gt;#map {position:absolute;top:0;bottom:0;right:0;left:0;}&lt;/style&gt;\n",
       "    &lt;script src=&quot;https://cdn.jsdelivr.net/npm/leaflet@1.9.3/dist/leaflet.js&quot;&gt;&lt;/script&gt;\n",
       "    &lt;script src=&quot;https://code.jquery.com/jquery-1.12.4.min.js&quot;&gt;&lt;/script&gt;\n",
       "    &lt;script src=&quot;https://cdn.jsdelivr.net/npm/bootstrap@5.2.2/dist/js/bootstrap.bundle.min.js&quot;&gt;&lt;/script&gt;\n",
       "    &lt;script src=&quot;https://cdnjs.cloudflare.com/ajax/libs/Leaflet.awesome-markers/2.0.2/leaflet.awesome-markers.js&quot;&gt;&lt;/script&gt;\n",
       "    &lt;link rel=&quot;stylesheet&quot; href=&quot;https://cdn.jsdelivr.net/npm/leaflet@1.9.3/dist/leaflet.css&quot;/&gt;\n",
       "    &lt;link rel=&quot;stylesheet&quot; href=&quot;https://cdn.jsdelivr.net/npm/bootstrap@5.2.2/dist/css/bootstrap.min.css&quot;/&gt;\n",
       "    &lt;link rel=&quot;stylesheet&quot; href=&quot;https://netdna.bootstrapcdn.com/bootstrap/3.0.0/css/bootstrap.min.css&quot;/&gt;\n",
       "    &lt;link rel=&quot;stylesheet&quot; href=&quot;https://cdn.jsdelivr.net/npm/@fortawesome/fontawesome-free@6.2.0/css/all.min.css&quot;/&gt;\n",
       "    &lt;link rel=&quot;stylesheet&quot; href=&quot;https://cdnjs.cloudflare.com/ajax/libs/Leaflet.awesome-markers/2.0.2/leaflet.awesome-markers.css&quot;/&gt;\n",
       "    &lt;link rel=&quot;stylesheet&quot; href=&quot;https://cdn.jsdelivr.net/gh/python-visualization/folium/folium/templates/leaflet.awesome.rotate.min.css&quot;/&gt;\n",
       "    \n",
       "            &lt;meta name=&quot;viewport&quot; content=&quot;width=device-width,\n",
       "                initial-scale=1.0, maximum-scale=1.0, user-scalable=no&quot; /&gt;\n",
       "            &lt;style&gt;\n",
       "                #map_85b3553474971a9300a8ee2dd176a975 {\n",
       "                    position: relative;\n",
       "                    width: 100.0%;\n",
       "                    height: 100.0%;\n",
       "                    left: 0.0%;\n",
       "                    top: 0.0%;\n",
       "                }\n",
       "                .leaflet-container { font-size: 1rem; }\n",
       "            &lt;/style&gt;\n",
       "        \n",
       "&lt;/head&gt;\n",
       "&lt;body&gt;\n",
       "    \n",
       "    \n",
       "            &lt;div class=&quot;folium-map&quot; id=&quot;map_85b3553474971a9300a8ee2dd176a975&quot; &gt;&lt;/div&gt;\n",
       "        \n",
       "&lt;/body&gt;\n",
       "&lt;script&gt;\n",
       "    \n",
       "    \n",
       "            var map_85b3553474971a9300a8ee2dd176a975 = L.map(\n",
       "                &quot;map_85b3553474971a9300a8ee2dd176a975&quot;,\n",
       "                {\n",
       "                    center: [4.65226, -74.12695],\n",
       "                    crs: L.CRS.EPSG3857,\n",
       "                    zoom: 15,\n",
       "                    zoomControl: true,\n",
       "                    preferCanvas: false,\n",
       "                }\n",
       "            );\n",
       "\n",
       "            \n",
       "\n",
       "        \n",
       "    \n",
       "            var tile_layer_fa669752768a7bda421e2f51121b9503 = L.tileLayer(\n",
       "                &quot;https://{s}.tile.openstreetmap.org/{z}/{x}/{y}.png&quot;,\n",
       "                {&quot;attribution&quot;: &quot;Data by \\u0026copy; \\u003ca target=\\&quot;_blank\\&quot; href=\\&quot;http://openstreetmap.org\\&quot;\\u003eOpenStreetMap\\u003c/a\\u003e, under \\u003ca target=\\&quot;_blank\\&quot; href=\\&quot;http://www.openstreetmap.org/copyright\\&quot;\\u003eODbL\\u003c/a\\u003e.&quot;, &quot;detectRetina&quot;: false, &quot;maxNativeZoom&quot;: 18, &quot;maxZoom&quot;: 18, &quot;minZoom&quot;: 0, &quot;noWrap&quot;: false, &quot;opacity&quot;: 1, &quot;subdomains&quot;: &quot;abc&quot;, &quot;tms&quot;: false}\n",
       "            ).addTo(map_85b3553474971a9300a8ee2dd176a975);\n",
       "        \n",
       "    \n",
       "            var circle_ca36b486c2310213c245ff9095c231cf = L.circle(\n",
       "                [4.65226, -74.12695],\n",
       "                {&quot;bubblingMouseEvents&quot;: true, &quot;color&quot;: &quot;green&quot;, &quot;dashArray&quot;: null, &quot;dashOffset&quot;: null, &quot;fill&quot;: &quot;green&quot;, &quot;fillColor&quot;: &quot;green&quot;, &quot;fillOpacity&quot;: 0.2, &quot;fillRule&quot;: &quot;evenodd&quot;, &quot;lineCap&quot;: &quot;round&quot;, &quot;lineJoin&quot;: &quot;round&quot;, &quot;opacity&quot;: 1.0, &quot;radius&quot;: 1000, &quot;stroke&quot;: true, &quot;weight&quot;: 3}\n",
       "            ).addTo(map_85b3553474971a9300a8ee2dd176a975);\n",
       "        \n",
       "    \n",
       "            var marker_c75e916a0b3e335dbfb6319bf413c5fb = L.marker(\n",
       "                [4.65226, -74.12695],\n",
       "                {}\n",
       "            ).addTo(map_85b3553474971a9300a8ee2dd176a975);\n",
       "        \n",
       "    \n",
       "            var icon_97a7d29adaf5279c93f0a822b748186d = L.AwesomeMarkers.icon(\n",
       "                {&quot;extraClasses&quot;: &quot;fa-rotate-0&quot;, &quot;icon&quot;: &quot;home&quot;, &quot;iconColor&quot;: &quot;white&quot;, &quot;markerColor&quot;: &quot;black&quot;, &quot;prefix&quot;: &quot;glyphicon&quot;}\n",
       "            );\n",
       "            marker_c75e916a0b3e335dbfb6319bf413c5fb.setIcon(icon_97a7d29adaf5279c93f0a822b748186d);\n",
       "        \n",
       "    \n",
       "        var popup_808f533b3abcb0ecbb2999bc1686da88 = L.popup({&quot;maxWidth&quot;: &quot;100%&quot;});\n",
       "\n",
       "        \n",
       "            \n",
       "                var html_35425a5c853af7cb9dedea049f8cc623 = $(`&lt;div id=&quot;html_35425a5c853af7cb9dedea049f8cc623&quot; style=&quot;width: 100.0%; height: 100.0%;&quot;&gt;&lt;b&gt;Centroid&lt;/b&gt;&lt;/div&gt;`)[0];\n",
       "                popup_808f533b3abcb0ecbb2999bc1686da88.setContent(html_35425a5c853af7cb9dedea049f8cc623);\n",
       "            \n",
       "        \n",
       "\n",
       "        marker_c75e916a0b3e335dbfb6319bf413c5fb.bindPopup(popup_808f533b3abcb0ecbb2999bc1686da88)\n",
       "        ;\n",
       "\n",
       "        \n",
       "    \n",
       "    \n",
       "            var marker_41010007eb38f2c21ddbb8c42c0170fb = L.marker(\n",
       "                [4.65127, -74.1234],\n",
       "                {}\n",
       "            ).addTo(map_85b3553474971a9300a8ee2dd176a975);\n",
       "        \n",
       "    \n",
       "            var icon_4bd7d08f1ee7d4a22fe74a4cfc6badc1 = L.AwesomeMarkers.icon(\n",
       "                {&quot;extraClasses&quot;: &quot;fa-rotate-0&quot;, &quot;icon&quot;: &quot;usd&quot;, &quot;iconColor&quot;: &quot;white&quot;, &quot;markerColor&quot;: &quot;darkred&quot;, &quot;prefix&quot;: &quot;glyphicon&quot;}\n",
       "            );\n",
       "            marker_41010007eb38f2c21ddbb8c42c0170fb.setIcon(icon_4bd7d08f1ee7d4a22fe74a4cfc6badc1);\n",
       "        \n",
       "    \n",
       "        var popup_46fbf753e4d171e56c1b6ce2ddfbf2b4 = L.popup({&quot;maxWidth&quot;: &quot;100%&quot;});\n",
       "\n",
       "        \n",
       "            \n",
       "                var i_frame_6001571981cf8e439ea59f6cbb7b7030 = $(`&lt;iframe src=&quot;data:text/html;charset=utf-8;base64,CiAgICA8Yj5NQVJDQTo8L2I+IE1PQklMIDxicj4KICAgICAgICAgICAgICAgICAgICA8Yj5OQU1FOjwvYj4gRURTIEVTU08gSU5EVVNUUklBTCBCT1lBQ0EgPGJyPgogICAgICAgICAgICAgICAgICAgIDxiPlBST0RVQ1RPOjwvYj4gQklPRElFU0VMIEVYVFJBIDxicj4KICAgICAgICAgICAgICAgICAgICA8Yj5QUkVDSU86PC9iPiA5MTkwIDxicj4KICAgICAgICAgICAgICAgICAgICA8Yj5ESVNUQU5DRTo8L2I+IDAuNDE8YnI+CiAgICAgICAgICAgICAgICAgICAgPGI+RElSRUNDSU9OOjwvYj4gQ0FSUkVSQSA3MSBOby4gMTktMDU8YnI+CiAgICAgICAgICAgICAgICAgICAgPGI+VU5JVDo8L2I+IEttPGJyPg==&quot; width=&quot;360px&quot; style=&quot;border:none !important;&quot; height=&quot;180px&quot;&gt;&lt;/iframe&gt;`)[0];\n",
       "                popup_46fbf753e4d171e56c1b6ce2ddfbf2b4.setContent(i_frame_6001571981cf8e439ea59f6cbb7b7030);\n",
       "            \n",
       "        \n",
       "\n",
       "        marker_41010007eb38f2c21ddbb8c42c0170fb.bindPopup(popup_46fbf753e4d171e56c1b6ce2ddfbf2b4)\n",
       "        ;\n",
       "\n",
       "        \n",
       "    \n",
       "    \n",
       "            var marker_009ad300448d6c56809ae59c051122ae = L.marker(\n",
       "                [4.65358, -74.13098],\n",
       "                {}\n",
       "            ).addTo(map_85b3553474971a9300a8ee2dd176a975);\n",
       "        \n",
       "    \n",
       "            var icon_1e5b0a11ba7ccd5c773b14614d13005a = L.AwesomeMarkers.icon(\n",
       "                {&quot;extraClasses&quot;: &quot;fa-rotate-0&quot;, &quot;icon&quot;: &quot;usd&quot;, &quot;iconColor&quot;: &quot;white&quot;, &quot;markerColor&quot;: &quot;darkgreen&quot;, &quot;prefix&quot;: &quot;glyphicon&quot;}\n",
       "            );\n",
       "            marker_009ad300448d6c56809ae59c051122ae.setIcon(icon_1e5b0a11ba7ccd5c773b14614d13005a);\n",
       "        \n",
       "    \n",
       "        var popup_96edefb2564439c5f889adde5ce85c13 = L.popup({&quot;maxWidth&quot;: &quot;100%&quot;});\n",
       "\n",
       "        \n",
       "            \n",
       "                var i_frame_133acb9cef250d937255f4a62dfa8493 = $(`&lt;iframe src=&quot;data:text/html;charset=utf-8;base64,CiAgICA8Yj5NQVJDQTo8L2I+IE1PQklMIDxicj4KICAgICAgICAgICAgICAgICAgICA8Yj5OQU1FOjwvYj4gRVNUQUNJT04gREUgU0VSVklDSU8gTUlMRU5JVU0gR0FTIENBTExFIDEzIDxicj4KICAgICAgICAgICAgICAgICAgICA8Yj5QUk9EVUNUTzo8L2I+IEJJT0RJRVNFTCBFWFRSQSA8YnI+CiAgICAgICAgICAgICAgICAgICAgPGI+UFJFQ0lPOjwvYj4gODAwMCA8YnI+CiAgICAgICAgICAgICAgICAgICAgPGI+RElTVEFOQ0U6PC9iPiAwLjQ3PGJyPgogICAgICAgICAgICAgICAgICAgIDxiPkRJUkVDQ0lPTjo8L2I+IEFWRU5JREEgQ0FMTEUgMTcgTm8uIDc4Ry0xMTxicj4KICAgICAgICAgICAgICAgICAgICA8Yj5VTklUOjwvYj4gS208YnI+&quot; width=&quot;360px&quot; style=&quot;border:none !important;&quot; height=&quot;180px&quot;&gt;&lt;/iframe&gt;`)[0];\n",
       "                popup_96edefb2564439c5f889adde5ce85c13.setContent(i_frame_133acb9cef250d937255f4a62dfa8493);\n",
       "            \n",
       "        \n",
       "\n",
       "        marker_009ad300448d6c56809ae59c051122ae.bindPopup(popup_96edefb2564439c5f889adde5ce85c13)\n",
       "        ;\n",
       "\n",
       "        \n",
       "    \n",
       "    \n",
       "            var marker_59aa6bd60f73e61593bd6bf699bbb92d = L.marker(\n",
       "                [4.65451, -74.12231],\n",
       "                {}\n",
       "            ).addTo(map_85b3553474971a9300a8ee2dd176a975);\n",
       "        \n",
       "    \n",
       "            var icon_6dce083237e0ff77d317dfcfd876024b = L.AwesomeMarkers.icon(\n",
       "                {&quot;extraClasses&quot;: &quot;fa-rotate-0&quot;, &quot;icon&quot;: &quot;usd&quot;, &quot;iconColor&quot;: &quot;white&quot;, &quot;markerColor&quot;: &quot;orange&quot;, &quot;prefix&quot;: &quot;glyphicon&quot;}\n",
       "            );\n",
       "            marker_59aa6bd60f73e61593bd6bf699bbb92d.setIcon(icon_6dce083237e0ff77d317dfcfd876024b);\n",
       "        \n",
       "    \n",
       "        var popup_94e60890582c0c8ba805f0ae4f31fbe9 = L.popup({&quot;maxWidth&quot;: &quot;100%&quot;});\n",
       "\n",
       "        \n",
       "            \n",
       "                var i_frame_aea4eef6fb39a22daa60b6908c347cf1 = $(`&lt;iframe src=&quot;data:text/html;charset=utf-8;base64,CiAgICA8Yj5NQVJDQTo8L2I+IFBFVFJPQlJBUyA8YnI+CiAgICAgICAgICAgICAgICAgICAgPGI+TkFNRTo8L2I+IEVTVEFDSU9OIERFIFNFUlZJQ0lPIEZFUlJPQ0FSUklMIDxicj4KICAgICAgICAgICAgICAgICAgICA8Yj5QUk9EVUNUTzo8L2I+IEJJT0RJRVNFTCBFWFRSQSA8YnI+CiAgICAgICAgICAgICAgICAgICAgPGI+UFJFQ0lPOjwvYj4gODQ0MCA8YnI+CiAgICAgICAgICAgICAgICAgICAgPGI+RElTVEFOQ0U6PC9iPiAwLjU3PGJyPgogICAgICAgICAgICAgICAgICAgIDxiPkRJUkVDQ0lPTjo8L2I+IENBUlJFUkEgNzIgTm8uIDIxLTUzPGJyPgogICAgICAgICAgICAgICAgICAgIDxiPlVOSVQ6PC9iPiBLbTxicj4=&quot; width=&quot;360px&quot; style=&quot;border:none !important;&quot; height=&quot;180px&quot;&gt;&lt;/iframe&gt;`)[0];\n",
       "                popup_94e60890582c0c8ba805f0ae4f31fbe9.setContent(i_frame_aea4eef6fb39a22daa60b6908c347cf1);\n",
       "            \n",
       "        \n",
       "\n",
       "        marker_59aa6bd60f73e61593bd6bf699bbb92d.bindPopup(popup_94e60890582c0c8ba805f0ae4f31fbe9)\n",
       "        ;\n",
       "\n",
       "        \n",
       "    \n",
       "    \n",
       "            var marker_87a2f0319ad7f769c9dbadbd5ec6a1ce = L.marker(\n",
       "                [4.6468, -74.12419],\n",
       "                {}\n",
       "            ).addTo(map_85b3553474971a9300a8ee2dd176a975);\n",
       "        \n",
       "    \n",
       "            var icon_25764b163494369a26cd43142bca3726 = L.AwesomeMarkers.icon(\n",
       "                {&quot;extraClasses&quot;: &quot;fa-rotate-0&quot;, &quot;icon&quot;: &quot;usd&quot;, &quot;iconColor&quot;: &quot;white&quot;, &quot;markerColor&quot;: &quot;orange&quot;, &quot;prefix&quot;: &quot;glyphicon&quot;}\n",
       "            );\n",
       "            marker_87a2f0319ad7f769c9dbadbd5ec6a1ce.setIcon(icon_25764b163494369a26cd43142bca3726);\n",
       "        \n",
       "    \n",
       "        var popup_9c0e885da4c43610c0399783f5adaef9 = L.popup({&quot;maxWidth&quot;: &quot;100%&quot;});\n",
       "\n",
       "        \n",
       "            \n",
       "                var i_frame_2697825f07d7d5e6ecc2d45862e1e0ed = $(`&lt;iframe src=&quot;data:text/html;charset=utf-8;base64,CiAgICA8Yj5NQVJDQTo8L2I+IFBFVFJPQlJBUyA8YnI+CiAgICAgICAgICAgICAgICAgICAgPGI+TkFNRTo8L2I+IEVEUyBDQUxMRSAxMyA8YnI+CiAgICAgICAgICAgICAgICAgICAgPGI+UFJPRFVDVE86PC9iPiBCSU9ESUVTRUwgRVhUUkEgPGJyPgogICAgICAgICAgICAgICAgICAgIDxiPlBSRUNJTzo8L2I+IDg0MDAgPGJyPgogICAgICAgICAgICAgICAgICAgIDxiPkRJU1RBTkNFOjwvYj4gMC42ODxicj4KICAgICAgICAgICAgICAgICAgICA8Yj5ESVJFQ0NJT046PC9iPiBDQUxMRSAxMyBOby4gNjkgQi04ODxicj4KICAgICAgICAgICAgICAgICAgICA8Yj5VTklUOjwvYj4gS208YnI+&quot; width=&quot;360px&quot; style=&quot;border:none !important;&quot; height=&quot;180px&quot;&gt;&lt;/iframe&gt;`)[0];\n",
       "                popup_9c0e885da4c43610c0399783f5adaef9.setContent(i_frame_2697825f07d7d5e6ecc2d45862e1e0ed);\n",
       "            \n",
       "        \n",
       "\n",
       "        marker_87a2f0319ad7f769c9dbadbd5ec6a1ce.bindPopup(popup_9c0e885da4c43610c0399783f5adaef9)\n",
       "        ;\n",
       "\n",
       "        \n",
       "    \n",
       "    \n",
       "            var marker_d5cb6dd6aa4b0062acec59057153f5f5 = L.marker(\n",
       "                [4.64574, -74.12998],\n",
       "                {}\n",
       "            ).addTo(map_85b3553474971a9300a8ee2dd176a975);\n",
       "        \n",
       "    \n",
       "            var icon_035ef173db74f9549f2982481ae96cbb = L.AwesomeMarkers.icon(\n",
       "                {&quot;extraClasses&quot;: &quot;fa-rotate-0&quot;, &quot;icon&quot;: &quot;usd&quot;, &quot;iconColor&quot;: &quot;white&quot;, &quot;markerColor&quot;: &quot;orange&quot;, &quot;prefix&quot;: &quot;glyphicon&quot;}\n",
       "            );\n",
       "            marker_d5cb6dd6aa4b0062acec59057153f5f5.setIcon(icon_035ef173db74f9549f2982481ae96cbb);\n",
       "        \n",
       "    \n",
       "        var popup_f9a6c6eaddb51de273746728c7b0574c = L.popup({&quot;maxWidth&quot;: &quot;100%&quot;});\n",
       "\n",
       "        \n",
       "            \n",
       "                var i_frame_5029a2e7f0318eede0e7063b475ac110 = $(`&lt;iframe src=&quot;data:text/html;charset=utf-8;base64,CiAgICA8Yj5NQVJDQTo8L2I+IFRFUlBFTCA8YnI+CiAgICAgICAgICAgICAgICAgICAgPGI+TkFNRTo8L2I+IEVTVEFDSU9OIERFIFNFUlZJQ0lPIFRFUlBFTCBWSUxMQSBBTFpBQ0lBIDxicj4KICAgICAgICAgICAgICAgICAgICA8Yj5QUk9EVUNUTzo8L2I+IEJJT0RJRVNFTCBFWFRSQSA8YnI+CiAgICAgICAgICAgICAgICAgICAgPGI+UFJFQ0lPOjwvYj4gODA4MCA8YnI+CiAgICAgICAgICAgICAgICAgICAgPGI+RElTVEFOQ0U6PC9iPiAwLjg8YnI+CiAgICAgICAgICAgICAgICAgICAgPGI+RElSRUNDSU9OOjwvYj4gQ0FMTEUgMTIgQiBOby4gNzEgRCAtIDgxPGJyPgogICAgICAgICAgICAgICAgICAgIDxiPlVOSVQ6PC9iPiBLbTxicj4=&quot; width=&quot;360px&quot; style=&quot;border:none !important;&quot; height=&quot;180px&quot;&gt;&lt;/iframe&gt;`)[0];\n",
       "                popup_f9a6c6eaddb51de273746728c7b0574c.setContent(i_frame_5029a2e7f0318eede0e7063b475ac110);\n",
       "            \n",
       "        \n",
       "\n",
       "        marker_d5cb6dd6aa4b0062acec59057153f5f5.bindPopup(popup_f9a6c6eaddb51de273746728c7b0574c)\n",
       "        ;\n",
       "\n",
       "        \n",
       "    \n",
       "    \n",
       "            var marker_ec4d54ab37eaf9278acbc18a760961bf = L.marker(\n",
       "                [4.64499, -74.13096],\n",
       "                {}\n",
       "            ).addTo(map_85b3553474971a9300a8ee2dd176a975);\n",
       "        \n",
       "    \n",
       "            var icon_087bc539f210a852400c49295494ead0 = L.AwesomeMarkers.icon(\n",
       "                {&quot;extraClasses&quot;: &quot;fa-rotate-0&quot;, &quot;icon&quot;: &quot;usd&quot;, &quot;iconColor&quot;: &quot;white&quot;, &quot;markerColor&quot;: &quot;orange&quot;, &quot;prefix&quot;: &quot;glyphicon&quot;}\n",
       "            );\n",
       "            marker_ec4d54ab37eaf9278acbc18a760961bf.setIcon(icon_087bc539f210a852400c49295494ead0);\n",
       "        \n",
       "    \n",
       "        var popup_7b8564851dad7af7470d8af5f703b7c4 = L.popup({&quot;maxWidth&quot;: &quot;100%&quot;});\n",
       "\n",
       "        \n",
       "            \n",
       "                var i_frame_3b5c95294a0db935fa04d237f7bca682 = $(`&lt;iframe src=&quot;data:text/html;charset=utf-8;base64,CiAgICA8Yj5NQVJDQTo8L2I+IEJJT01BWCA8YnI+CiAgICAgICAgICAgICAgICAgICAgPGI+TkFNRTo8L2I+IEVTVEFDSU9OIERFIFNFUlZJQ0lPIFZJTExBIEFMU0FDSUEgPGJyPgogICAgICAgICAgICAgICAgICAgIDxiPlBST0RVQ1RPOjwvYj4gQklPRElFU0VMIEVYVFJBIDxicj4KICAgICAgICAgICAgICAgICAgICA8Yj5QUkVDSU86PC9iPiA4MDgwIDxicj4KICAgICAgICAgICAgICAgICAgICA8Yj5ESVNUQU5DRTo8L2I+IDAuOTI8YnI+CiAgICAgICAgICAgICAgICAgICAgPGI+RElSRUNDSU9OOjwvYj4gQ0FMTEUgMTIgQklTIE5vLiA3MUctNTM8YnI+CiAgICAgICAgICAgICAgICAgICAgPGI+VU5JVDo8L2I+IEttPGJyPg==&quot; width=&quot;360px&quot; style=&quot;border:none !important;&quot; height=&quot;180px&quot;&gt;&lt;/iframe&gt;`)[0];\n",
       "                popup_7b8564851dad7af7470d8af5f703b7c4.setContent(i_frame_3b5c95294a0db935fa04d237f7bca682);\n",
       "            \n",
       "        \n",
       "\n",
       "        marker_ec4d54ab37eaf9278acbc18a760961bf.bindPopup(popup_7b8564851dad7af7470d8af5f703b7c4)\n",
       "        ;\n",
       "\n",
       "        \n",
       "    \n",
       "&lt;/script&gt;\n",
       "&lt;/html&gt;\" style=\"position:absolute;width:100%;height:100%;left:0;top:0;border:none !important;\" allowfullscreen webkitallowfullscreen mozallowfullscreen></iframe></div></div>"
      ],
      "text/plain": [
       "<folium.folium.Map at 0x2682d09a0b0>"
      ]
     },
     "execution_count": 55,
     "metadata": {},
     "output_type": "execute_result"
    }
   ],
   "source": [
    "m = folium.Map([geo_source[0],geo_source[1]], zoom_start= 15)\n",
    "\n",
    "folium.Circle(\n",
    "    \n",
    "    radius = int(radio)*1000,\n",
    "    location = [geo_source[0],geo_source[1]],\n",
    "    color = 'green',\n",
    "    fill = 'green'\n",
    "\n",
    ").add_to(m)\n",
    "\n",
    "folium.Marker(\n",
    "\n",
    "            location = [geo_source[0],geo_source[1]],\n",
    "            icon =  folium.Icon(color='black',icon_color='white',\n",
    "            icon = \"home\",prefix = 'glyphicon'),\n",
    "            popup = \"<b>Centroid</b>\").add_to(m)\n",
    "\n",
    "marker_rest(gdf_results_2,m,unit,oil[1],'usd')\n",
    "\n",
    "m"
   ]
  },
  {
   "cell_type": "code",
   "execution_count": null,
   "id": "20966439",
   "metadata": {},
   "outputs": [],
   "source": []
  },
  {
   "cell_type": "code",
   "execution_count": null,
   "id": "363c27e5",
   "metadata": {},
   "outputs": [],
   "source": []
  }
 ],
 "metadata": {
  "kernelspec": {
   "display_name": "Python 3",
   "language": "python",
   "name": "python3"
  },
  "language_info": {
   "codemirror_mode": {
    "name": "ipython",
    "version": 3
   },
   "file_extension": ".py",
   "mimetype": "text/x-python",
   "name": "python",
   "nbconvert_exporter": "python",
   "pygments_lexer": "ipython3",
   "version": "3.10.5"
  }
 },
 "nbformat": 4,
 "nbformat_minor": 5
}
